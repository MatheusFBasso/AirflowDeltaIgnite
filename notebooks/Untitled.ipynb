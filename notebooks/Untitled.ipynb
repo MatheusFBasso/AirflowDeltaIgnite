{
 "cells": [
  {
   "cell_type": "code",
   "id": "1e235b35-449b-418a-ab2f-5a2b63f600fa",
   "metadata": {
    "ExecuteTime": {
     "end_time": "2025-10-29T02:39:10.884053Z",
     "start_time": "2025-10-29T02:39:10.732491Z"
    }
   },
   "source": [
    "from pyspark.sql import SparkSession\n",
    "from delta import configure_spark_with_delta_pip\n",
    "\n",
    "# Configure Spark session\n",
    "builder = SparkSession.builder \\\n",
    "    .appName(\"ReadBronzeTable\") \\\n",
    "    .master(\"spark://spark-master:7077\") \\\n",
    "    .config(\"spark.eventLog.enabled\", \"false\") \\\n",
    "    .config(\"spark.sql.extensions\", \"io.delta.sql.DeltaSparkSessionExtension\") \\\n",
    "    .config(\"spark.sql.catalog.spark_catalog\", \"org.apache.spark.sql.delta.catalog.DeltaCatalog\") \\\n",
    "    .config(\"spark.jars\", \"/opt/spark/jars/delta-spark_2.12-3.3.2.jar,/opt/spark/jars/delta-storage-3.3.2.jar,/opt/spark/jars/antlr4-runtime-4.9.3.jar\")\n",
    "\n",
    "# Apply Delta configuration\n",
    "spark = configure_spark_with_delta_pip(builder).getOrCreate()"
   ],
   "outputs": [],
   "execution_count": 78
  },
  {
   "metadata": {
    "ExecuteTime": {
     "end_time": "2025-10-29T02:43:37.883517Z",
     "start_time": "2025-10-29T02:43:37.421104Z"
    }
   },
   "cell_type": "code",
   "source": "spark.stop()",
   "id": "74425dcee2cec435",
   "outputs": [],
   "execution_count": 81
  },
  {
   "metadata": {
    "ExecuteTime": {
     "end_time": "2025-10-29T02:39:34.178623Z",
     "start_time": "2025-10-29T02:39:33.337068Z"
    }
   },
   "cell_type": "code",
   "source": "spark.read.format('delta').load('../opt/spark/data/warehouse/silver.db/brewery_daily').show()",
   "id": "54216cb267fb7a85",
   "outputs": [
    {
     "name": "stdout",
     "output_type": "stream",
     "text": [
      "+--------------------+--------------------+------------+---------------+-----------+-------------+-----------+-----------+---------------+--------------------+--------------+--------------------+--------------+--------------------+\n",
      "|                  id|                name|brewery_type|           city|postal_code|      country|  longitude|   latitude|          phone|         website_url|         state|              street|date_ref_carga|             address|\n",
      "+--------------------+--------------------+------------+---------------+-----------+-------------+-----------+-----------+---------------+--------------------+--------------+--------------------+--------------+--------------------+\n",
      "|c1c83b65-fc4f-46e...|    The Vine Brewery|     brewpub|       Worthing|   BN14 7NN|      England|  50.825427|  50.825427|     1903201121|http://www.vine-t...|   West Sussex|         High Street|    2025-10-28|      High Street | |\n",
      "|b94e8965-6f1f-4e0...| The Vine N Hop Shop|       micro|      Brunswick|      44212|United States|       NULL|       NULL|     3306236940|http://www.vineho...|          Ohio|1327 N. Carpenter...|    2025-10-28|1327 N. Carpenter...|\n",
      "|350e1253-9909-42b...|The Virginia Beer...|       micro|   Williamsburg| 23185-4815|United States|       NULL|       NULL|     7573782903|http://www.virgin...|      Virginia|       401 Second St|    2025-10-28|    401 Second St | |\n",
      "|ed37f635-4971-4cd...|The Watchmakers A...|       micro|           Hove|    BN3 3RU|      England|  50.834247|  50.834247|     1273776307|https://www.thewa...|   East Sussex|    Goldstone Villas|    2025-10-28| Goldstone Villas | |\n",
      "|130cc74f-b3a6-40e...|The Welcome Swall...|       micro|    New Norfolk|       7140|    Australia|-42.7856979|-42.7856979|+61 438 302 621|http://www.welcom...|           Tas|        99 Ring Road|    2025-10-28|     99 Ring Road | |\n",
      "|0d782514-4463-44f...|    The Welder’s Dog|       micro|       Armidale|       2350|    Australia|-30.5142565|-30.5142565|+61 432 504 444|https://www.thewe...|           Nsw|   101 Beardy Street|    2025-10-28|101 Beardy Street | |\n",
      "|5a4a1710-58ca-42f...|The Welder’s Dog ...|       micro|       Armidale|       2350|    Australia|-30.5142565|-30.5142565|+61 432 504 444|https://www.thewe...|           Nsw|   101 Beardy Street|    2025-10-28|101 Beardy Street | |\n",
      "|95cdf2c9-d9ba-411...|The White Hag Bre...|       micro|      Ballymote|   F56 YR52|      Ireland| 54.0893242| 54.0893242|           NULL|http://www.thewhi...|         Sligo|     Unit 1, Block 2|    2025-10-28|Unit 1, Block 2 |...|\n",
      "|5c1cd6fb-fea3-43d...| The Wicklow Brewery|       micro|       Redcross|   A67 H799|      Ireland| 52.8893592| 52.8893592|    35340441661|http://www.wicklo...|       Wicklow|         Main Street|    2025-10-28|Main Street | Bal...|\n",
      "|efcc1f93-659b-4e5...|The Wild Rover Br...|       micro|          Tampa|      33626|United States|       NULL|       NULL|     8134755995|http://www.thewil...|       Florida|   13921 Lynmar Blvd|    2025-10-28|13921 Lynmar Blvd | |\n",
      "|efc1fdf0-8856-4d3...|The Woodburn Brewery|       micro|     Cincinnati| 45206-1793|United States| 39.1289592| 39.1289592|     5132212337|http://www.woodbu...|          Ohio|   2800 Woodburn Ave|    2025-10-28|2800 Woodburn Ave | |\n",
      "|e8d5827b-34d2-4e7...|The Woodlands At ...|       micro|        Atlanta| 30324-3924|United States|       NULL|       NULL|     4046912537|                NULL|       Georgia|       215 Ottley Dr|    2025-10-28|    215 Ottley Dr | |\n",
      "|0d2a28a2-9eab-4f9...|The Wrecking Bar ...|     brewpub|        Atlanta| 30307-1953|United States|  33.762309|  33.762309|     4042212600|http://www.wrecki...|       Georgia| 292 Moreland Ave Ne|    2025-10-28|292 Moreland Ave ...|\n",
      "|82cf46b2-ab8d-4ef...|There Does Not Exist|    planning|San Luis Obispo|      93401|United States| 35.2827525| 35.2827525|           NULL|http://www.thered...|    California|                NULL|    2025-10-28|                    |\n",
      "|714524c7-19aa-4b0...|These Guys Brewin...|     brewpub|        Norwich| 06360-5806|United States|41.52487646|41.52487646|     8609498550|http://www.theseg...|   Connecticut|      78 Franklin St|    2025-10-28|   78 Franklin St | |\n",
      "|b9faff23-c49c-4ad...|Thew Brewing Company|       micro|   Cedar Rapids|      52404|United States|  42.035746|  42.035746|     3193438439|http://www.thewbr...|          Iowa|         301 2nd Ave|    2025-10-28|      301 2nd Ave | |\n",
      "|566c3a39-7a96-460...|Thimble Island Br...|      closed|       Branford| 06405-2924|United States|41.29695786|41.29695786|     2032082827|http://www.thimbl...|   Connecticut| 16 Business Park Dr|    2025-10-28|16 Business Park ...|\n",
      "|f26c65be-a08b-4bb...|    Thin Man Brewery|     brewpub|        Buffalo| 14222-2014|United States|42.91037815|42.91037815|     7169234100|http://www.thinma...|      New York|     486 Elmwood Ave|    2025-10-28|  486 Elmwood Ave | |\n",
      "|e56e71b6-8a59-47b...| Think Tank Brew Lab|    planning|     Greenville|      29607|United States|       NULL|       NULL|           NULL|http://www.thinkt...|South Carolina|                NULL|    2025-10-28|                    |\n",
      "|0fd31f1d-0bc5-402...|Third Barrel Brewing|       micro|         Dublin|   D12 NPF9|      Ireland| 53.3308805| 53.3308805|   353014604387|https://thirdbarr...|        Dublin|     Bluebell Avenue|    2025-10-28|Bluebell Avenue |...|\n",
      "+--------------------+--------------------+------------+---------------+-----------+-------------+-----------+-----------+---------------+--------------------+--------------+--------------------+--------------+--------------------+\n",
      "only showing top 20 rows\n",
      "\n"
     ]
    }
   ],
   "execution_count": 80
  },
  {
   "metadata": {
    "ExecuteTime": {
     "end_time": "2025-10-29T02:04:45.747444Z",
     "start_time": "2025-10-29T02:04:45.674593Z"
    }
   },
   "cell_type": "code",
   "source": [
    "from pyspark.sql.functions import col, from_json\n",
    "\n",
    "df.withColumn('parse_data', from_json(col('raw_json'), schema)).select('parse_data.*').show(truncate=True)"
   ],
   "id": "82bc98a28490fc84",
   "outputs": [
    {
     "name": "stdout",
     "output_type": "stream",
     "text": [
      "+--------------------+------------------------------+------------+--------------------+--------------+---------+---------------+----------------+-----------+-----------+-----------+-----------+-------------+--------------------+----------------+--------------------+--------------+\n",
      "|                  id|                          name|brewery_type|           address_1|     address_2|address_3|           city|  state_province|postal_code|    country|  longitude|   latitude|        phone|         website_url|           state|              street|date_ref_carga|\n",
      "+--------------------+------------------------------+------------+--------------------+--------------+---------+---------------+----------------+-----------+-----------+-----------+-----------+-------------+--------------------+----------------+--------------------+--------------+\n",
      "|                NULL|                          NULL|        NULL|                NULL|          NULL|     NULL|           NULL|            NULL|       NULL|       NULL|       NULL|       NULL|         NULL|                NULL|            NULL|                NULL|          NULL|\n",
      "|a489a154-1f69-4ea...|      브루어리304 (Brewery ...|     brewpub| 7, Tongil-ro 11-gil|          NULL|     NULL|   Seodaemun-gu|           Seoul|      03734|South Korea| 126.962571|37.56924092|  02-363-7304|https://www.brewe...|           Seoul| 7, Tongil-ro 11-gil|          NULL|\n",
      "|adbffc2c-c973-441...| 블루웨일브루하우스(BlueWha...|     brewpub|       109, Sajik-ro|          NULL|     NULL|     Chungju-si|Chungcheongbukdo|      27410|South Korea|127.9248097|36.96760505| 043-843-7773|https://whalebeer...|Chungcheongbukdo|       109, Sajik-ro|          NULL|\n",
      "|4065feb7-008b-401...|     비아브루어리(Via Brewery)|     brewpub|47, Imbangul-daer...|          NULL|     NULL|    Gwangsan-gu|         Gwangju|      62279|South Korea|126.8492063|35.21530647|070-4126-4110|https://www.insta...|         Gwangju|47, Imbangul-daer...|          NULL|\n",
      "|9ad6ad04-85ec-453...|      비어바나 (Beer Vana B...|     brewpub|5-1, Dorim-ro 129...|          NULL|     NULL|Yeongdeungpo-gu|           Seoul|      07290|South Korea|126.8952771| 37.5133648| 02-2634-6277|https://www.insta...|           Seoul|5-1, Dorim-ro 129...|          NULL|\n",
      "|115b67f2-e2ec-4d5...|    서울 브루어리 (Seoul Br...|     brewpub|10, Tojeong-ro 3a...|          NULL|     NULL|        Mapo-gu|           Seoul|      04083|South Korea|126.9146756|37.54594861|070-7756-0915|https://www.seoul...|           Seoul|10, Tojeong-ro 3a...|          NULL|\n",
      "|7d5a3056-0c03-4a7...|        서울집시 (Seoul Gypsy)|     brewpub|   107, Seosulla-gil|          NULL|     NULL|      Jongno-gu|           Seoul|      03134|South Korea|126.9915676|37.57504419|  02-743-1212|http://instagram....|           Seoul|   107, Seosulla-gil|          NULL|\n",
      "|b38a706c-f137-4c9...|     순성양조장(Sunseong Br...|     brewpub|      394, Maesil-ro|Sunseong-myeon|     NULL|     Dangjin-si|Chungcheongnamdo|      31757|South Korea|126.7071635|36.83056542| 041-354-1204|https://www.insta...|Chungcheongnamdo|      394, Maesil-ro|          NULL|\n",
      "|b5c4192b-902c-407...|     순천양조장(Suncheon Br...|     brewpub|    57, Yeokjeon-gil|          NULL|     NULL|    Suncheon-si|     Jeollanamdo|      57964|South Korea|127.4987434|34.94739604| 061-745-2545|https://www.insta...|     Jeollanamdo|    57, Yeokjeon-gil|          NULL|\n",
      "|2abf3e94-2824-4c4...|   스퀴즈브루어리(Squeeze B...|     brewpub|      353, Gongji-ro|          NULL|     NULL|   Chuncheon-si|       Gangwondo|      24365|South Korea|127.7270367|37.86982853| 033-818-1663|http://squeezebre...|       Gangwondo|      353, Gongji-ro|          NULL|\n",
      "|e706c6ba-82d4-409...|   아리랑 브루어리(Alilang-...|     brewpub|   26-55, Yemi 2-gil|   Sindong-eup|     NULL|  Jeongseon-gun|       Gangwondo|      26142|South Korea|128.6513589|37.21507529| 033-378-7177|http://www.xn--9i...|       Gangwondo|   26-55, Yemi 2-gil|          NULL|\n",
      "|09c1e42a-8e73-409...|      아쉬트리 (Ash Tree Br...|     brewpub|22 Achasan-ro 49-gil|          NULL|     NULL|    Gwangjin-gu|           Seoul|      05043|South Korea|127.0323206|37.49360307| 02-6339-4858|https://www.ashtr...|           Seoul|22 Achasan-ro 49-gil|          NULL|\n",
      "|930d5e04-4234-4bf...|    아톤브루어리 (Aton Brew...|     brewpub|      23, Jangmun-ro|          NULL|     NULL|     Yongsan-gu|           Seoul|      04392|South Korea|126.9930459|37.52846912|070-4009-5849|http://www.instag...|           Seoul|      23, Jangmun-ro|          NULL|\n",
      "|aad01f28-c9ad-4b8...|        안동가옥(Andong House)|     brewpub|16-7, Munhwagwang...|          NULL|     NULL|      Andong-si| Gyeongsangbukdo|      36700|South Korea|128.7307751|36.56384588| 054-901-5550|http://instagram....| Gyeongsangbukdo|16-7, Munhwagwang...|          NULL|\n",
      "|99fdc1ac-a3ae-475...|    안동브루어리(Andong Bre...|       micro| 98, Goejeong 2-gil,|   Pungsan-eup|     NULL|      Andong-si| Gyeongsangbukdo|      36619|South Korea|128.5337984|36.60338246| 054-852-9602|https://www.insta...| Gyeongsangbukdo| 98, Goejeong 2-gil,|          NULL|\n",
      "|363c5d1f-99e3-4b8...|어메이징브루잉컴퍼니 (Amazi...|     brewpub|4, Seongsuil-ro 4...|          NULL|     NULL|   Seongdong-gu|           Seoul|      04780|South Korea|127.0495044|37.54297518|  02-465-5208|http://www.amazin...|           Seoul|4, Seongsuil-ro 4...|          NULL|\n",
      "|0616a0ff-c23f-4cf...|   에일크루브루잉 (Alecrew ...|     brewpub|     87, Moraenae-ro|          NULL|     NULL|        Mapo-gu|           Seoul|      03949|South Korea| 126.912452|37.56657473|  02-304-8663|https://www.insta...|           Seoul|     87, Moraenae-ro|          NULL|\n",
      "|cfa85b4b-30b6-477...|  에잇피플브루어리(Eight Pe...|     brewpub|3, Jaejaegi-ro 19...|     Hwado-eup|     NULL|   Namyangju-si|      Gyeonggido|      12200|South Korea|127.3033051|37.61749196| 031-595-5589|https://www.faceb...|      Gyeonggido|3, Jaejaegi-ro 19...|          NULL|\n",
      "|1b8e9bf0-27a4-494...|엑스트라스몰브루잉룸(XSBREW...|     brewpub| 19, Cheongmyeong-ro|          NULL|     NULL|      Yeonsu-gu|         Incheon|      21917|South Korea|126.6752048|37.41755734|         NULL|https://www.insta...|         Incheon| 19, Cheongmyeong-ro|          NULL|\n",
      "|32a97b7b-726c-41a...|    와일드 웨이브(Wild Wave...|     brewpub|106-1, Songjeongj...|          NULL|     NULL|    Haeundae-gu|           Busan|      48071|South Korea|129.2035339|35.18781109| 051-702-0838|https://www.wildw...|           Busan|106-1, Songjeongj...|          NULL|\n",
      "+--------------------+------------------------------+------------+--------------------+--------------+---------+---------------+----------------+-----------+-----------+-----------+-----------+-------------+--------------------+----------------+--------------------+--------------+\n",
      "only showing top 20 rows\n",
      "\n"
     ]
    }
   ],
   "execution_count": 72
  },
  {
   "metadata": {
    "ExecuteTime": {
     "end_time": "2025-10-29T01:42:01.162007Z",
     "start_time": "2025-10-29T01:42:01.155753Z"
    }
   },
   "cell_type": "code",
   "source": [
    "from glob import glob\n",
    "\n",
    "a = sorted(glob('../opt/spark/data/raw_data/brewery/bkp/2025_10_27_03_21_28*.json'))"
   ],
   "id": "5acf3483a36d7fc7",
   "outputs": [],
   "execution_count": 24
  },
  {
   "metadata": {
    "ExecuteTime": {
     "end_time": "2025-10-29T01:44:32.732812Z",
     "start_time": "2025-10-29T01:44:32.723014Z"
    }
   },
   "cell_type": "code",
   "source": [
    "import json\n",
    "\n",
    "with open(a[0], 'r') as f:\n",
    "    data = json.load(f)"
   ],
   "id": "ec78b3eca3125ef0",
   "outputs": [],
   "execution_count": 34
  },
  {
   "metadata": {
    "ExecuteTime": {
     "end_time": "2025-10-29T01:49:18.878820Z",
     "start_time": "2025-10-29T01:49:18.867689Z"
    }
   },
   "cell_type": "code",
   "source": [
    "from pyspark.sql.types import StringType, StructType, StructField, DateType, TimestampType, IntegerType, DoubleType\n",
    "\n",
    "schema = StructType([\n",
    "    StructField('id',             StringType(), False),\n",
    "    StructField('name',           StringType(), True),\n",
    "    StructField('brewery_type',   StringType(), True),\n",
    "    StructField('address_1',      StringType(), True),\n",
    "    StructField('address_2',      StringType(), True),\n",
    "    StructField('address_3',      StringType(), True),\n",
    "    StructField('city',           StringType(), True),\n",
    "    StructField('state_province', StringType(), True),\n",
    "    StructField('postal_code',    StringType(), True),\n",
    "    StructField('country',        StringType(), True),\n",
    "    StructField('longitude',      StringType(), True),\n",
    "    StructField('latitude',       StringType(), True),\n",
    "    StructField('phone',          StringType(), True),\n",
    "    StructField('website_url',    StringType(), True),\n",
    "    StructField('state',          StringType(), True),\n",
    "    StructField('street',         StringType(), True),\n",
    "    StructField('date_ref_carga',   DateType(), False),\n",
    "    ])"
   ],
   "id": "8aeb672fbbdf0064",
   "outputs": [],
   "execution_count": 42
  },
  {
   "metadata": {
    "ExecuteTime": {
     "end_time": "2025-10-29T02:06:51.285612Z",
     "start_time": "2025-10-29T02:06:51.105011Z"
    }
   },
   "cell_type": "code",
   "source": "spark.read.schema(schema).json(a, multiLine=True).replace('NULL', None).show(truncate=False)",
   "id": "6cd934d665f85c81",
   "outputs": [
    {
     "name": "stdout",
     "output_type": "stream",
     "text": [
      "+------------------------------------+--------------------------------------------+------------+---------------------------------+---------+---------+----------------+--------------+-----------+-------------+------------+-----------+----------+---------------------------------------+-----------+---------------------------------+--------------+\n",
      "|id                                  |name                                        |brewery_type|address_1                        |address_2|address_3|city            |state_province|postal_code|country      |longitude   |latitude   |phone     |website_url                            |state      |street                           |date_ref_carga|\n",
      "+------------------------------------+--------------------------------------------+------------+---------------------------------+---------+---------+----------------+--------------+-----------+-------------+------------+-----------+----------+---------------------------------------+-----------+---------------------------------+--------------+\n",
      "|0be4ed90-78cb-44f9-bcb6-dfbc52e770f3|Fifth Street Brewpub                        |brewpub     |1600 E 5th St                    |NULL     |NULL     |Dayton          |Ohio          |45403-2304 |United States|-84.1881863 |39.7572259 |9374430919|http://Fifthstreetbrewpub.coop         |Ohio       |1600 E 5th St                    |NULL          |\n",
      "|0f57933a-def7-4c86-8cd3-505b834c0470|Fifth Ward Brewing Company                  |micro       |1009 S Main St                   |NULL     |NULL     |Oshkosh         |Wisconsin     |54902-6019 |United States|-88.5408574 |44.0206919 |9204791876|http://www.fifthwardbrewing.com        |Wisconsin  |1009 S Main St                   |NULL          |\n",
      "|5a19b678-db5b-4fe3-939f-73345b04b3a4|Fifth Year Brewery                          |planning    |NULL                             |NULL     |NULL     |West Haven      |Connecticut   |06516-7515 |United States|NULL        |NULL       |NULL      |NULL                                   |Connecticut|NULL                             |NULL          |\n",
      "|a84e6dc3-0e93-455b-8655-819b832b6bc3|Fifty West Brewing Co                       |micro       |7605 Wooster Pike                |NULL     |NULL     |Cincinnati      |Ohio          |45227-3925 |United States|-84.4134859 |39.11952   |5138348789|NULL                                   |Ohio       |7605 Wooster Pike                |NULL          |\n",
      "|e16b6c28-c37c-43fe-9234-705513701060|Fifty West Brewing Co                       |brewpub     |7668 Wooster Pike                |NULL     |NULL     |Cincinnati      |Ohio          |45227-3926 |United States|-84.4134859 |39.11952   |5138348789|http://www.fiftywestbrew.com           |Ohio       |7668 Wooster Pike                |NULL          |\n",
      "|9e84203a-cf4f-486a-a162-8068bc3eaf54|FiftyFifty Brewing Co                       |brewpub     |11197 Brockway Rd Spc 1          |NULL     |NULL     |Truckee         |California    |96161-3352 |United States|-120.1634145|39.32213777|5305872337|http://www.fiftyfiftybrewing.com       |California |11197 Brockway Rd Spc 1          |NULL          |\n",
      "|a10765e2-a7d7-4930-acb6-3bf77bb7b77f|FiftyFifty Brewing Production Facility      |micro       |10434 River Park Pl              |NULL     |NULL     |Truckee         |California    |96161-5905 |United States|-120.1931724|39.32253237|5305872337|NULL                                   |California |10434 River Park Pl              |NULL          |\n",
      "|1198ad91-b35e-470b-a7e2-bcb93934e6f2|FigLeaf Brewing Company                     |micro       |3387 Cincinnati Dayton Rd        |NULL     |NULL     |Middletown      |Ohio          |45044-8905 |United States|-84.34678975|39.46688114|9373612573|http://www.figleafbrewing.com          |Ohio       |3387 Cincinnati Dayton Rd        |NULL          |\n",
      "|860d5477-e4ed-4c74-afc9-66e02056855f|Figueroa Mountain Brewing                   |regional    |45 Industrial Way                |NULL     |NULL     |Buellton        |California    |93427-9565 |United States|-120.2022226|34.61068975|8056942252|http://www.figmtnbrew.com              |California |45 Industrial Way                |NULL          |\n",
      "|ba47384b-fd1f-4dd5-b51f-75f28a2a7f70|Figueroa Mountain Brewing - Arroyo Grande   |brewpub     |1462 E Grand Ave                 |NULL     |NULL     |Arroyo Grande   |California    |93420-2448 |United States|-120.6059582|35.12102175|8058869275|http://www.figmtnbrew.com              |California |1462 E Grand Ave                 |NULL          |\n",
      "|bfe8fe2c-12d4-4620-9e13-d2ca346078fc|Figueroa Mountain Brewing - Santa Barbara   |micro       |137 Anacapa St Ste F             |NULL     |NULL     |Santa Barbara   |California    |93101-1848 |United States|-119.6908077|34.414758  |8058869275|http://www.figmtnbrew.com              |California |137 Anacapa St Ste F             |NULL          |\n",
      "|8a0c381f-ea5b-4474-969d-9abfed057d65|Figueroa Mountain Brewing - Westlake Village|micro       |30770 Russell Ranch Rd Ste E& # F|NULL     |NULL     |Westlake Village|California    |91362-6314 |United States|-118.7954292|34.14758662|8058869275|http://www.figmtnbrew.com              |California |30770 Russell Ranch Rd Ste E& # F|NULL          |\n",
      "|607ac560-d432-4e42-9aca-b9244542a861|Figure Eight Brewing Co                     |brewpub     |150 Washington St                |NULL     |NULL     |Valparaiso      |Indiana       |46383-5507 |United States|NULL        |NULL       |2194772000|http://www.figureeightbrewing.com      |Indiana    |150 Washington St                |NULL          |\n",
      "|379eceb5-bc20-4627-ad9c-d3cb922048b8|Figurehead Brewing Company                  |micro       |4001 21st Ave W Unit B           |NULL     |NULL     |Seattle         |Washington    |98199-1201 |United States|-122.3835563|47.65688785|2064927981|http://www.figureheadbrewingcompany.com|Washington |4001 21st Ave W Unit B           |NULL          |\n",
      "|5913b262-fbb5-4279-b50f-24843d149b94|Fillmore 13 Brewery                         |brewpub     |7 N Saginaw St                   |NULL     |NULL     |Pontiac         |Michigan      |48342-2182 |United States|-83.292346  |42.6369922 |2489773972|http://www.fillmore13brewery.com       |Michigan   |7 N Saginaw St                   |NULL          |\n",
      "|c776ab29-500d-4679-b417-f58d712c5ab0|Final Draft Brewing Company                 |brewpub     |1600 California St               |NULL     |NULL     |Redding         |California    |96001-1001 |United States|-122.3913371|40.5820505 |3105693868|http://www.finaldraftbrewingcompany.com|California |1600 California St               |NULL          |\n",
      "|10ea014e-22e8-4c4f-b988-9a46e656c1d7|Final Gravity Brewing Co                    |brewpub     |103 N Phelps St                  |NULL     |NULL     |Decatur         |Michigan      |49045-1008 |United States|-85.97454749|42.10876694|2694368052|http://www.finalgravitybrew.com        |Michigan   |103 N Phelps St                  |NULL          |\n",
      "|b58fc6dc-a1f6-4106-bb65-45ff5eefc03d|Final Gravity Brewing Co.                   |micro       |6118 Lakeside Ave                |NULL     |NULL     |Henrico         |Virginia      |23228      |United States|-77.46933476|37.61145549|8042644808|NULL                                   |Virginia   |6118 Lakeside Ave                |NULL          |\n",
      "|7bb60663-b700-4b29-80fd-f196f5c33c9d|Final Gravity Brewing Company               |planning    |NULL                             |NULL     |NULL     |Decatur         |Michigan      |49045-1118 |United States|NULL        |NULL       |NULL      |http://www.finalgravitybrew.com        |Michigan   |NULL                             |NULL          |\n",
      "|493075c7-501d-4e01-ad6d-75308f0db95f|Final Gravity Brewing Company               |micro       |246 N Burdick St                 |NULL     |NULL     |Kalamazoo       |Michigan      |49007-3828 |United States|-85.58315888|42.29324471|NULL      |http://www.finalgravitybrew.com        |Michigan   |246 N Burdick St                 |NULL          |\n",
      "+------------------------------------+--------------------------------------------+------------+---------------------------------+---------+---------+----------------+--------------+-----------+-------------+------------+-----------+----------+---------------------------------------+-----------+---------------------------------+--------------+\n",
      "only showing top 20 rows\n",
      "\n"
     ]
    }
   ],
   "execution_count": 74
  },
  {
   "metadata": {},
   "cell_type": "code",
   "source": "t = test(a='b')",
   "id": "c1925b73ed2de0d0",
   "outputs": [],
   "execution_count": null
  },
  {
   "metadata": {},
   "cell_type": "code",
   "source": [
    "import inspect\n",
    "\n",
    "[func[0] for func in inspect.getmembers(test, predicate=inspect.isfunction) if not func[0].startswith('__') and not func[0].endswith('__')]"
   ],
   "id": "e008840f745a9b8e",
   "outputs": [],
   "execution_count": null
  },
  {
   "metadata": {},
   "cell_type": "code",
   "source": "inspect.getmembers(test, predicate=inspect.isfunction)",
   "id": "d10e76b5a10de179",
   "outputs": [],
   "execution_count": null
  }
 ],
 "metadata": {
  "kernelspec": {
   "display_name": "Python 3 (ipykernel)",
   "language": "python",
   "name": "python3"
  },
  "language_info": {
   "codemirror_mode": {
    "name": "ipython",
    "version": 3
   },
   "file_extension": ".py",
   "mimetype": "text/x-python",
   "name": "python",
   "nbconvert_exporter": "python",
   "pygments_lexer": "ipython3",
   "version": "3.12.12"
  }
 },
 "nbformat": 4,
 "nbformat_minor": 5
}
